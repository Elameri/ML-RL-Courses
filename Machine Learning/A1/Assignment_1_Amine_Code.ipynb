{
 "cells": [
  {
   "cell_type": "markdown",
   "metadata": {
    "id": "Ge4MoUozAols"
   },
   "source": [
    "## INF8245E (Fall 2021) : Machine Learning - Assignment 1\n",
    "## Amine EL AMERI - Matricule: 2164634"
   ]
  },
  {
   "cell_type": "code",
   "execution_count": 1,
   "metadata": {},
   "outputs": [],
   "source": [
    "# this notebook is only tested on jupyter locally, some commands, like those for uploading the datasets may not work\n",
    "# on colab because of its default working directory which is different than jupyter's"
   ]
  },
  {
   "cell_type": "code",
   "execution_count": 2,
   "metadata": {
    "executionInfo": {
     "elapsed": 452,
     "status": "ok",
     "timestamp": 1632961878136,
     "user": {
      "displayName": "Amine EL AMERI",
      "photoUrl": "https://lh3.googleusercontent.com/a/default-user=s64",
      "userId": "11543486035736550386"
     },
     "user_tz": 240
    },
    "id": "wdPFWE-OB7Wi"
   },
   "outputs": [],
   "source": [
    "import numpy as np\n",
    "from numpy.linalg import inv, pinv\n",
    "import scipy as sp\n",
    "import matplotlib.pyplot as plt\n",
    "import pandas as pd\n",
    "plt.rcParams['figure.figsize'] = [25, 6]"
   ]
  },
  {
   "cell_type": "markdown",
   "metadata": {
    "id": "jmQndVCphhBo"
   },
   "source": [
    "## 1 Sampling"
   ]
  },
  {
   "cell_type": "markdown",
   "metadata": {
    "id": "o3Od5NgsiBPV"
   },
   "source": [
    "##### Q2"
   ]
  },
  {
   "cell_type": "code",
   "execution_count": 3,
   "metadata": {
    "executionInfo": {
     "elapsed": 48,
     "status": "ok",
     "timestamp": 1632961878362,
     "user": {
      "displayName": "Amine EL AMERI",
      "photoUrl": "https://lh3.googleusercontent.com/a/default-user=s64",
      "userId": "11543486035736550386"
     },
     "user_tz": 240
    },
    "id": "QGCJ3pkPHEWe"
   },
   "outputs": [],
   "source": [
    "def multinomial_activities():\n",
    "    randNumber = np.random.uniform(0,1)\n",
    "\n",
    "    if 0 <= randNumber < 0.2:\n",
    "        return \"Movies\"\n",
    "    elif 0.2 <= randNumber < 0.6:\n",
    "        return \"INF8245E\"\n",
    "    elif 0.6 <= randNumber < 0.7:\n",
    "        return \"Playing\"\n",
    "    else:\n",
    "        return \"Studying\""
   ]
  },
  {
   "cell_type": "code",
   "execution_count": 4,
   "metadata": {
    "executionInfo": {
     "elapsed": 48,
     "status": "ok",
     "timestamp": 1632961878364,
     "user": {
      "displayName": "Amine EL AMERI",
      "photoUrl": "https://lh3.googleusercontent.com/a/default-user=s64",
      "userId": "11543486035736550386"
     },
     "user_tz": 240
    },
    "id": "c5YWJmsNHEWg"
   },
   "outputs": [],
   "source": [
    "def student_routine(nDays):\n",
    "    fracMovies = 0\n",
    "    fracINF8245E = 0\n",
    "    fracPlaying = 0\n",
    "    fracStudying = 0\n",
    "    \n",
    "    for i in range(nDays):\n",
    "        activity = multinomial_activities()\n",
    "        if activity == \"Movies\":\n",
    "            fracMovies += 1\n",
    "        elif activity == \"INF8245E\":\n",
    "            fracINF8245E += 1\n",
    "        elif activity == \"Playing\":\n",
    "            fracPlaying += 1\n",
    "        else:\n",
    "            fracStudying += 1\n",
    "    return {\"fracMovies\": fracMovies/nDays, \"fracINF8245E\": fracINF8245E/nDays, \"fracPlaying\": fracPlaying/nDays, \"fracStudying\" :fracStudying/nDays}"
   ]
  },
  {
   "cell_type": "code",
   "execution_count": 5,
   "metadata": {
    "colab": {
     "base_uri": "https://localhost:8080/"
    },
    "executionInfo": {
     "elapsed": 49,
     "status": "ok",
     "timestamp": 1632961878367,
     "user": {
      "displayName": "Amine EL AMERI",
      "photoUrl": "https://lh3.googleusercontent.com/a/default-user=s64",
      "userId": "11543486035736550386"
     },
     "user_tz": 240
    },
    "id": "_uo6F7ChHEWj",
    "outputId": "d7fc1e68-529d-4ca9-cc70-d22c5847c582"
   },
   "outputs": [
    {
     "name": "stdout",
     "output_type": "stream",
     "text": [
      "For 100 days: {'fracMovies': 0.22, 'fracINF8245E': 0.3, 'fracPlaying': 0.11, 'fracStudying': 0.37}\n",
      "For 1000 days: {'fracMovies': 0.215, 'fracINF8245E': 0.379, 'fracPlaying': 0.102, 'fracStudying': 0.304}\n"
     ]
    }
   ],
   "source": [
    "print(\"For 100 days: \" + str(student_routine(100)))\n",
    "print(\"For 1000 days: \" + str(student_routine(1000)))"
   ]
  },
  {
   "cell_type": "markdown",
   "metadata": {
    "id": "dlnd-kkJHEWu"
   },
   "source": [
    "## 2 Model Selection"
   ]
  },
  {
   "cell_type": "markdown",
   "metadata": {
    "id": "e7CS9GpYHEWo"
   },
   "source": [
    "##### Importing Datasets"
   ]
  },
  {
   "cell_type": "code",
   "execution_count": 6,
   "metadata": {
    "colab": {
     "base_uri": "https://localhost:8080/",
     "height": 219
    },
    "executionInfo": {
     "elapsed": 67,
     "status": "error",
     "timestamp": 1632961878397,
     "user": {
      "displayName": "Amine EL AMERI",
      "photoUrl": "https://lh3.googleusercontent.com/a/default-user=s64",
      "userId": "11543486035736550386"
     },
     "user_tz": 240
    },
    "id": "p6-6qP1QHEWr",
    "outputId": "784647d5-7fd9-418a-8d1a-f0162313c6c7"
   },
   "outputs": [
    {
     "data": {
      "text/plain": [
       "['Datasets/communities.data',\n",
       " 'Datasets/communities.names',\n",
       " 'Datasets/Dataset_1_test.csv',\n",
       " 'Datasets/Dataset_1_train.csv',\n",
       " 'Datasets/Dataset_1_valid.csv',\n",
       " 'Datasets/Dataset_2_test.csv',\n",
       " 'Datasets/Dataset_2_train.csv',\n",
       " 'Datasets/Dataset_2_valid.csv',\n",
       " 'Datasets/README.txt']"
      ]
     },
     "execution_count": 6,
     "metadata": {},
     "output_type": "execute_result"
    }
   ],
   "source": [
    "myPath = \"Datasets/\"\n",
    "from os import listdir\n",
    "from os.path import isfile, join\n",
    "files = [(myPath + f) for f in listdir(myPath) if isfile(join(myPath, f))]\n",
    "files"
   ]
  },
  {
   "cell_type": "markdown",
   "metadata": {
    "id": "JOcOlkhNHEWw"
   },
   "source": [
    "##### Q1"
   ]
  },
  {
   "cell_type": "markdown",
   "metadata": {},
   "source": [
    "###### Q1-a"
   ]
  },
  {
   "cell_type": "code",
   "execution_count": 7,
   "metadata": {
    "executionInfo": {
     "elapsed": 33,
     "status": "aborted",
     "timestamp": 1632961878368,
     "user": {
      "displayName": "Amine EL AMERI",
      "photoUrl": "https://lh3.googleusercontent.com/a/default-user=s64",
      "userId": "11543486035736550386"
     },
     "user_tz": 240
    },
    "id": "9xjHPzkNHEWx"
   },
   "outputs": [],
   "source": [
    "# reading data\n",
    "train1 = pd.read_csv('Datasets/Dataset_1_train.csv', header=None, usecols=[0,1])\n",
    "valid1 = pd.read_csv('Datasets/Dataset_1_valid.csv', header=None, usecols=[0,1])\n",
    "test1 = pd.read_csv('Datasets/Dataset_1_test.csv', header=None, usecols=[0,1])\n",
    "\n",
    "X1_examples_train, X1_examples_valid, X1_examples_test = train1[0].tolist(), valid1[0].tolist(), test1[0].tolist()\n",
    "Y1_train, Y1_valid, Y1_test = train1[1].tolist(), valid1[1].tolist(), test1[1].tolist()\n",
    "Y1_train, Y1_valid, Y1_test = np.array([Y1_train]).T, np.array([Y1_valid]).T, np.array([Y1_test]).T"
   ]
  },
  {
   "cell_type": "code",
   "execution_count": 8,
   "metadata": {
    "executionInfo": {
     "elapsed": 33,
     "status": "aborted",
     "timestamp": 1632961878370,
     "user": {
      "displayName": "Amine EL AMERI",
      "photoUrl": "https://lh3.googleusercontent.com/a/default-user=s64",
      "userId": "11543486035736550386"
     },
     "user_tz": 240
    },
    "id": "YA9vt6DqHEW0"
   },
   "outputs": [],
   "source": [
    "# construction of the data matrix X\n",
    "def construct_data_matrix_X(X_examples): #construction of the matrice X containing\n",
    "\n",
    "    nbr_examples = len(X_examples)\n",
    "    X = np.zeros((nbr_examples, 21))\n",
    "\n",
    "    # 20-degree polynomial in every line\n",
    "    for i in range(nbr_examples):\n",
    "        x = X_examples[i]\n",
    "        X[i,:] = [np.power(x,j) for j in range(21)]\n",
    "    \n",
    "    return X"
   ]
  },
  {
   "cell_type": "code",
   "execution_count": 9,
   "metadata": {
    "executionInfo": {
     "elapsed": 34,
     "status": "aborted",
     "timestamp": 1632961878372,
     "user": {
      "displayName": "Amine EL AMERI",
      "photoUrl": "https://lh3.googleusercontent.com/a/default-user=s64",
      "userId": "11543486035736550386"
     },
     "user_tz": 240
    },
    "id": "ob12s6OPHEW1"
   },
   "outputs": [],
   "source": [
    "# solving for the parameters using the closed solution of the least square\n",
    "def fit_20_degree_polynomial_without_regularization(X_data_matrix, Y):\n",
    "    \n",
    "    # solving for the parameters\n",
    "    W = np.matmul(inv(np.matmul(X_data_matrix.T, X_data_matrix)), np.matmul(X_data_matrix.T, Y))\n",
    "    \n",
    "    return W"
   ]
  },
  {
   "cell_type": "code",
   "execution_count": 10,
   "metadata": {
    "executionInfo": {
     "elapsed": 36,
     "status": "aborted",
     "timestamp": 1632961878375,
     "user": {
      "displayName": "Amine EL AMERI",
      "photoUrl": "https://lh3.googleusercontent.com/a/default-user=s64",
      "userId": "11543486035736550386"
     },
     "user_tz": 240
    },
    "id": "qp-LaJJTHEW3"
   },
   "outputs": [],
   "source": [
    "# calculate the root mean square error\n",
    "def RMSE(X_data_matrix, Y, W):\n",
    "    nbr_examples = X_data_matrix.shape[0]\n",
    "    \n",
    "    # least square error\n",
    "    E = float(np.matmul((Y - np.matmul(X_data_matrix, W)).T, (Y - np.matmul(X_data_matrix, W)))/2)\n",
    "    \n",
    "    #RMSE\n",
    "    RMSE = np.sqrt((2*E)/nbr_examples)\n",
    "    \n",
    "    return RMSE"
   ]
  },
  {
   "cell_type": "code",
   "execution_count": 11,
   "metadata": {
    "executionInfo": {
     "elapsed": 42,
     "status": "aborted",
     "timestamp": 1632961878381,
     "user": {
      "displayName": "Amine EL AMERI",
      "photoUrl": "https://lh3.googleusercontent.com/a/default-user=s64",
      "userId": "11543486035736550386"
     },
     "user_tz": 240
    },
    "id": "ye3XA7trHEW5"
   },
   "outputs": [],
   "source": [
    "X1_data_matrix_train = construct_data_matrix_X(X1_examples_train)\n",
    "X1_data_matrix_valid = construct_data_matrix_X(X1_examples_valid)\n",
    "X1_data_matrix_test = construct_data_matrix_X(X1_examples_test)"
   ]
  },
  {
   "cell_type": "code",
   "execution_count": 12,
   "metadata": {
    "executionInfo": {
     "elapsed": 44,
     "status": "aborted",
     "timestamp": 1632961878384,
     "user": {
      "displayName": "Amine EL AMERI",
      "photoUrl": "https://lh3.googleusercontent.com/a/default-user=s64",
      "userId": "11543486035736550386"
     },
     "user_tz": 240
    },
    "id": "B-NUC9_IHEW6"
   },
   "outputs": [
    {
     "name": "stdout",
     "output_type": "stream",
     "text": [
      "RMSE_train: 2.544695842834324\n",
      "\n",
      "RMSE_valid: 37.666521492377456\n",
      "\n"
     ]
    }
   ],
   "source": [
    "W = fit_20_degree_polynomial_without_regularization(X1_data_matrix_train, Y1_train)\n",
    "\n",
    "# RMSE for training set\n",
    "RMSE_train = RMSE(X1_data_matrix_train, Y1_train, W)\n",
    "print(f\"RMSE_train: {RMSE_train}\\n\")\n",
    "\n",
    "# RMSE for validation set\n",
    "RMSE_valid = RMSE(X1_data_matrix_valid, Y1_valid, W)\n",
    "print(f\"RMSE_valid: {RMSE_valid}\\n\")"
   ]
  },
  {
   "cell_type": "markdown",
   "metadata": {
    "id": "oaCx-fxPHEW_"
   },
   "source": [
    "###### Q1-b"
   ]
  },
  {
   "cell_type": "code",
   "execution_count": 13,
   "metadata": {
    "executionInfo": {
     "elapsed": 51,
     "status": "aborted",
     "timestamp": 1632961878393,
     "user": {
      "displayName": "Amine EL AMERI",
      "photoUrl": "https://lh3.googleusercontent.com/a/default-user=s64",
      "userId": "11543486035736550386"
     },
     "user_tz": 240
    },
    "id": "tyIVcXu0HEXA"
   },
   "outputs": [
    {
     "data": {
      "image/png": "[encoded data removed]",
      "text/plain": [
       "<Figure size 1800x432 with 1 Axes>"
      ]
     },
     "metadata": {
      "needs_background": "light"
     },
     "output_type": "display_data"
    }
   ],
   "source": [
    "# Plotting the training and the validation points\n",
    "plt.scatter(X1_examples_train, Y1_train, label=\"Training points\")\n",
    "plt.scatter(X1_examples_valid, Y1_valid, label=\"Validation points\")\n",
    "plt.scatter(X1_examples_test, Y1_test, label=\"Testing points\")\n",
    "\n",
    "# plotting the model on 100 points\n",
    "model_x = np.linspace(min(X1_examples_train), max(X1_examples_train), 100)\n",
    "X1_model = construct_data_matrix_X(model_x)\n",
    "model_y = np.matmul(X1_model, W)\n",
    "\n",
    "plt.plot(model_x, list(model_y[:,0]), label=\"Model\")\n",
    "plt.xlabel(\"Data points\")\n",
    "plt.ylabel(\"Predictions\")\n",
    "plt.legend(loc='best')\n",
    "plt.show()"
   ]
  },
  {
   "cell_type": "markdown",
   "metadata": {},
   "source": [
    "###### Q1-c"
   ]
  },
  {
   "cell_type": "markdown",
   "metadata": {
    "executionInfo": {
     "elapsed": 52,
     "status": "aborted",
     "timestamp": 1632961878395,
     "user": {
      "displayName": "Amine EL AMERI",
      "photoUrl": "https://lh3.googleusercontent.com/a/default-user=s64",
      "userId": "11543486035736550386"
     },
     "user_tz": 240
    },
    "id": "f-5-apSDHEXB"
   },
   "source": [
    "The model is overfitting, because 20 degree polynomial is more than what is needed to model the data"
   ]
  },
  {
   "cell_type": "markdown",
   "metadata": {},
   "source": [
    "##### Q2"
   ]
  },
  {
   "cell_type": "markdown",
   "metadata": {},
   "source": [
    "###### Q2-a"
   ]
  },
  {
   "cell_type": "code",
   "execution_count": 14,
   "metadata": {},
   "outputs": [],
   "source": [
    "# solving for the parameters using the closed solution of the least square with L2 regularization\n",
    "def fit_20_degree_polynomial_L2_regularization(X_data_matrix, Y, lambd):\n",
    "    \n",
    "    dim = X_data_matrix.T.shape[0]\n",
    "    \n",
    "    # solving for the parameters\n",
    "    W = np.matmul( inv(np.matmul(X_data_matrix.T, X_data_matrix) + lambd*np.eye(dim)), np.matmul(X_data_matrix.T, Y) )\n",
    "    \n",
    "    return W"
   ]
  },
  {
   "cell_type": "code",
   "execution_count": 15,
   "metadata": {},
   "outputs": [],
   "source": [
    "# calculate the root mean square error\n",
    "def RMSE_L2_regularization(X_data_matrix, Y, W, lambd):\n",
    "    nbr_examples = X_data_matrix.shape[0]\n",
    "    \n",
    "    # least square error\n",
    "    E = float(np.matmul((Y - np.matmul(X_data_matrix, W)).T, (Y - np.matmul(X_data_matrix, W))) + lambd*np.matmul(W.T, W))/2\n",
    "    \n",
    "    #RMSE\n",
    "    RMSE = np.sqrt((2*E)/nbr_examples)\n",
    "    \n",
    "    return RMSE"
   ]
  },
  {
   "cell_type": "code",
   "execution_count": 16,
   "metadata": {},
   "outputs": [
    {
     "data": {
      "image/png": "[encoded data removed]",
      "text/plain": [
       "<Figure size 1800x432 with 1 Axes>"
      ]
     },
     "metadata": {
      "needs_background": "light"
     },
     "output_type": "display_data"
    }
   ],
   "source": [
    "lambds = np.arange(0, 1.01, 0.01)\n",
    "\n",
    "RMSEs_train = []\n",
    "RMSEs_valid = []\n",
    "for lambd in lambds:\n",
    "    W_L2 = fit_20_degree_polynomial_L2_regularization(X1_data_matrix_train, Y1_train, lambd)\n",
    "\n",
    "    # RMSE for training set\n",
    "    RMSE_train_L2 = RMSE_L2_regularization(X1_data_matrix_train, Y1_train, W_L2, lambd)\n",
    "    RMSEs_train.append(RMSE_train_L2)\n",
    "\n",
    "    # RMSE for validation set\n",
    "    RMSE_valid_L2 = RMSE_L2_regularization(X1_data_matrix_valid, Y1_valid, W_L2, lambd)\n",
    "    RMSEs_valid.append(RMSE_valid_L2)\n",
    "\n",
    "\n",
    "# Plotting\n",
    "fig, ax = plt.subplots()\n",
    "ax.plot(lambds, RMSEs_train, label = \"Training RMSE\")\n",
    "ax.plot(lambds, RMSEs_valid, label = \"Validation RMSE\")\n",
    "\n",
    "ax.set_xlabel(\"Lambda\")\n",
    "\n",
    "plt.xticks(np.arange(min(lambds), max(lambds), 0.04))\n",
    "ax.set_ylabel(\"RMSE\")\n",
    "ax.set_ylim([0, 10])\n",
    "ax.legend(loc='best')\n",
    "plt.show()"
   ]
  },
  {
   "cell_type": "markdown",
   "metadata": {},
   "source": [
    "###### Q2-b"
   ]
  },
  {
   "cell_type": "code",
   "execution_count": 17,
   "metadata": {},
   "outputs": [
    {
     "name": "stdout",
     "output_type": "stream",
     "text": [
      "Best lambda: 0.01\n"
     ]
    }
   ],
   "source": [
    "# the best lambda\n",
    "best_lambda = lambds[np.argmin(np.array(RMSEs_valid))]\n",
    "print(f\"Best lambda: {best_lambda}\")"
   ]
  },
  {
   "cell_type": "code",
   "execution_count": 18,
   "metadata": {},
   "outputs": [
    {
     "name": "stdout",
     "output_type": "stream",
     "text": [
      "RMSE train set (best lambda=0.01): 2.984477379420454\n",
      "\n",
      "RMSE valid set (best lambda=0.01): 3.0430680451547643\n",
      "\n",
      "RMSE regul test set (best lambda=0.01): 3.304821323218764\n",
      "\n"
     ]
    }
   ],
   "source": [
    "W_L2_best_lambda = fit_20_degree_polynomial_L2_regularization(X1_data_matrix_train, Y1_train, best_lambda)\n",
    "\n",
    "# RMSE for train set\n",
    "RMSE_train_L2 = RMSE_L2_regularization(X1_data_matrix_train, Y1_train, W_L2_best_lambda, 0.01)\n",
    "print(f\"RMSE train set (best lambda={best_lambda}): {RMSE_train_L2}\\n\")\n",
    "\n",
    "# RMSE for valid set\n",
    "RMSE_valid_L2 = RMSE_L2_regularization(X1_data_matrix_valid, Y1_valid, W_L2_best_lambda, 0.01)\n",
    "print(f\"RMSE valid set (best lambda={best_lambda}): {RMSE_valid_L2}\\n\")\n",
    "\n",
    "# RMSE for test set\n",
    "RMSE_test_L2 = RMSE_L2_regularization(X1_data_matrix_test, Y1_test, W_L2_best_lambda, 0.01)\n",
    "print(f\"RMSE regul test set (best lambda={best_lambda}): {RMSE_test_L2}\\n\")\n"
   ]
  },
  {
   "cell_type": "markdown",
   "metadata": {},
   "source": [
    "###### Q2-c"
   ]
  },
  {
   "cell_type": "code",
   "execution_count": 19,
   "metadata": {},
   "outputs": [
    {
     "data": {
      "image/png": "[encoded data removed]",
      "text/plain": [
       "<Figure size 1800x432 with 1 Axes>"
      ]
     },
     "metadata": {
      "needs_background": "light"
     },
     "output_type": "display_data"
    }
   ],
   "source": [
    "# Plotting the training, the validation and the testing points\n",
    "plt.scatter(X1_examples_train, Y1_train, label=\"Training points\")\n",
    "plt.scatter(X1_examples_valid, Y1_valid, label=\"Validation points\")\n",
    "plt.scatter(X1_examples_test, Y1_test, label=\"Testing points\")\n",
    "\n",
    "# plotting the model with the best lambda on 100 points\n",
    "model_x_reg = np.linspace(min(X1_examples_train), max(X1_examples_train), 100)\n",
    "X1_model_reg = construct_data_matrix_X(model_x)\n",
    "model_y_reg = np.matmul(X1_model_reg, W_L2_best_lambda)\n",
    "\n",
    "\n",
    "plt.plot(model_x_reg, list(model_y_reg[:,0]), label=\"Model with best lambda\")\n",
    "plt.xlabel(\"Data points\")\n",
    "plt.ylabel(\"Predictions\")\n",
    "plt.legend(loc='best')\n",
    "plt.show()"
   ]
  },
  {
   "cell_type": "markdown",
   "metadata": {},
   "source": [
    "###### Q2-d"
   ]
  },
  {
   "cell_type": "markdown",
   "metadata": {},
   "source": [
    "The model with the best lambda tends to be a little bit underfitting in regards of the testing data points, but is in general fitting the training and validation data very good"
   ]
  },
  {
   "cell_type": "markdown",
   "metadata": {},
   "source": [
    "##### Q3"
   ]
  },
  {
   "cell_type": "markdown",
   "metadata": {},
   "source": [
    "When looking at the shape of model obtained with the best lambda, I think the degree of the source polynomial is 2, because we can have a very close looking model with 2nd degree polynomial."
   ]
  },
  {
   "cell_type": "markdown",
   "metadata": {},
   "source": [
    "## 3 Gradient Descent for Regression"
   ]
  },
  {
   "cell_type": "code",
   "execution_count": 20,
   "metadata": {},
   "outputs": [],
   "source": [
    "# reading data\n",
    "train2 = pd.read_csv('Datasets/Dataset_2_train.csv', header=None, usecols=[0,1])\n",
    "valid2 = pd.read_csv('Datasets/Dataset_2_valid.csv', header=None, usecols=[0,1])\n",
    "test2 = pd.read_csv('Datasets/Dataset_2_test.csv', header=None, usecols=[0,1])\n",
    "\n",
    "X2_examples_train, X2_examples_valid, X2_examples_test = train2[0].tolist(), valid2[0].tolist(), test2[0].tolist()\n",
    "Y2_train, Y2_valid, Y2_test = train2[1].tolist(), valid2[1].tolist(), test2[1].tolist()\n",
    "Y2_train, Y2_valid, Y2_test = np.array([Y2_train]).T, np.array([Y2_valid]).T, np.array([Y2_test]).T"
   ]
  },
  {
   "cell_type": "markdown",
   "metadata": {},
   "source": [
    "##### Q1"
   ]
  },
  {
   "cell_type": "markdown",
   "metadata": {},
   "source": [
    "##### Q1-a"
   ]
  },
  {
   "cell_type": "code",
   "execution_count": 21,
   "metadata": {},
   "outputs": [],
   "source": [
    "def calculate_Loss(X_data_points, Y, w0, w1):\n",
    "    return np.sum( ((w0 + w1*np.array(X_data_points)) - np.array(Y)) **2)/(2*len(X_data_points))\n",
    "    \n",
    "def SGD(X_train_data_points, Y_train, X_valid_data_points, Y_valid, alpha, k):\n",
    "    \n",
    "    nDataPoints = len(X_train_data_points)\n",
    "    \n",
    "    w0 = np.random.uniform(0, 0.1, 1)[0]\n",
    "    w1 = np.random.uniform(0, 0.1, 1)[0]\n",
    "    \n",
    "    nEpochs = 0\n",
    "    W = []\n",
    "    trainingLoss = []\n",
    "    validationLoss = []\n",
    "    isSameLoss = []\n",
    "    patience = 0\n",
    "    done = False\n",
    "    \n",
    "    while done == False:\n",
    "    \n",
    "        # Shuffle\n",
    "        X_train_valid = list(zip(X_train_data_points, Y_train))\n",
    "        np.random.shuffle(X_train_valid)\n",
    "        x_train, y_train = zip(*X_train_valid)\n",
    "        \n",
    "        # update w0 and w1\n",
    "        for dataPt in range(nDataPoints):\n",
    "            y_predicted = w0 + w1 * x_train[dataPt]\n",
    "            y = y_train[dataPt]\n",
    "            w0 = w0 - alpha * (y_predicted - y)\n",
    "            w1 = w1 - alpha * (y_predicted - y) * x_train[dataPt]\n",
    "        \n",
    "        nEpochs += 1   \n",
    "        W.append((w0, w1))\n",
    "        trainingLoss.append(calculate_Loss(X_train_data_points, Y_train, w0, w1))\n",
    "        validationLoss.append(calculate_Loss(X_valid_data_points, Y_valid, w0, w1))\n",
    "        \n",
    "        \n",
    "        # early stopping\n",
    "        if (len(validationLoss) > 2) and (validationLoss[nEpochs - 1] >= validationLoss[nEpochs - 2]) :\n",
    "            patience += 1\n",
    "            if patience == k:\n",
    "                done = True\n",
    "        else:\n",
    "            patience = 0\n",
    "        \n",
    "        # if it diverge\n",
    "        if nEpochs > 5000:\n",
    "            done = True\n",
    "        \n",
    "    RMSE_train = np.sqrt((2/len(X_train_data_points))*np.array(trainingLoss))\n",
    "    RMSE_valid = np.sqrt((2/len(X_valid_data_points))*np.array(validationLoss))\n",
    "    return (RMSE_train, RMSE_valid, nEpochs, W)"
   ]
  },
  {
   "cell_type": "code",
   "execution_count": 22,
   "metadata": {},
   "outputs": [
    {
     "data": {
      "image/png": "[encoded data removed]",
      "text/plain": [
       "<Figure size 1800x432 with 1 Axes>"
      ]
     },
     "metadata": {
      "needs_background": "light"
     },
     "output_type": "display_data"
    }
   ],
   "source": [
    "(RMSEs_train2, RMSEs_valid2, nEpochs, W) = SGD(X2_examples_train, Y2_train, X2_examples_valid, Y2_valid, 1e-4, 100)\n",
    "plt.plot(np.arange(nEpochs), RMSEs_train2, label = \"Training RMSE\")\n",
    "plt.plot(np.arange(nEpochs), RMSEs_valid2, label = \"Validation RMSE\")\n",
    "plt.xlabel(\"Number of epochs\")\n",
    "plt.ylabel(\"RMSE\")\n",
    "plt.legend(loc='best')\n",
    "plt.show()"
   ]
  },
  {
   "cell_type": "markdown",
   "metadata": {},
   "source": [
    "##### Q2"
   ]
  },
  {
   "cell_type": "markdown",
   "metadata": {},
   "source": [
    "##### Q2-a"
   ]
  },
  {
   "cell_type": "code",
   "execution_count": 23,
   "metadata": {},
   "outputs": [
    {
     "name": "stdout",
     "output_type": "stream",
     "text": [
      "Step sizes: [0.01, 0.001, 0.0001, 1e-05, 1e-06, 1e-07]\n",
      "Validation RMSE: [2.8376910370448316, 2.8300459914198184, 2.6925712772639177, 2.6195388560814035, 2.614748575679913, 5.617836542979559]\n"
     ]
    }
   ],
   "source": [
    "stepSizes = [1e-2, 1e-3, 1e-4, 1e-5, 1e-6, 1e-7]\n",
    "validationPerformances = []\n",
    "for stepsize in stepSizes:\n",
    "    RMSEs_train2, RMSEs_valid2, nEpochs, W = SGD(X2_examples_train, Y2_train, X2_examples_valid, Y2_valid, stepsize, 100)\n",
    "    validationPerformances.append(RMSEs_valid2[-1])\n",
    "\n",
    "print(f\"Step sizes: {stepSizes}\")\n",
    "print(f\"Validation RMSE: {validationPerformances}\")"
   ]
  },
  {
   "cell_type": "code",
   "execution_count": 24,
   "metadata": {},
   "outputs": [
    {
     "name": "stdout",
     "output_type": "stream",
     "text": [
      "The best stepzise : 1e-06\n"
     ]
    }
   ],
   "source": [
    "best_stepsize = stepSizes[np.argmin(validationPerformances)]\n",
    "print(f\"The best stepzise : {best_stepsize}\")"
   ]
  },
  {
   "cell_type": "markdown",
   "metadata": {},
   "source": [
    "##### Q2-b"
   ]
  },
  {
   "cell_type": "code",
   "execution_count": 25,
   "metadata": {},
   "outputs": [
    {
     "name": "stdout",
     "output_type": "stream",
     "text": [
      "RMSE of the chosen model with the best stepsize: 2.4727560808447806\n"
     ]
    }
   ],
   "source": [
    "_, _, nEpochs, W = SGD(X2_examples_train, Y2_train, X2_examples_valid, Y2_valid, best_stepsize, 100)\n",
    "test_loss2 = calculate_Loss(X2_examples_test, Y2_test, W[-1][0][0], W[-1][1][0])\n",
    "RMSE_test2 = np.sqrt((2*test_loss2)/len(X2_examples_test))\n",
    "print(f\"RMSE of the chosen model with the best stepsize: {RMSE_test2}\")"
   ]
  },
  {
   "cell_type": "markdown",
   "metadata": {},
   "source": [
    "##### Q3"
   ]
  },
  {
   "cell_type": "code",
   "execution_count": 26,
   "metadata": {},
   "outputs": [
    {
     "data": {
      "image/png": "[encoded data removed]",
      "text/plain": [
       "<Figure size 1800x432 with 1 Axes>"
      ]
     },
     "metadata": {
      "needs_background": "light"
     },
     "output_type": "display_data"
    }
   ],
   "source": [
    "fiveRandomNumbers = np.sort(np.random.randint(nEpochs, size=5))\n",
    "\n",
    "x = np.linspace(min(X2_examples_train), max(X2_examples_train), 100)\n",
    "\n",
    "fig, ax = plt.subplots()\n",
    "for i in fiveRandomNumbers:\n",
    "    lbl = \"Epoch number: \" + str(i)\n",
    "    ax.plot(x, W[i][0][0] + W[i][1][0]*x, label = lbl)\n",
    "    \n",
    "ax.set_title(\"5 random visualizations of the training process\")\n",
    "plt.legend(loc='best')\n",
    "plt.show()\n",
    "    "
   ]
  },
  {
   "cell_type": "markdown",
   "metadata": {},
   "source": [
    "##### Q4"
   ]
  },
  {
   "cell_type": "code",
   "execution_count": 27,
   "metadata": {},
   "outputs": [],
   "source": [
    "def calculate_Loss_derivative_w0(X_data_points, Y, w0, w1):\n",
    "    return np.sum( ((w0 + w1*np.array(X_data_points)) - np.array(Y)))/len(X_data_points)\n",
    "\n",
    "def calculate_Loss_derivative_w1(X_data_points, Y, w0, w1):\n",
    "    return np.sum( ((w0 + w1*np.array(X_data_points)) - np.array(Y))*np.array(X_data_points) )/len(X_data_points)\n",
    "\n",
    "def fullBatchGD(X_train_data_points, Y_train, X_valid_data_points, Y_valid):\n",
    "    alpha = 1e-4\n",
    "    \n",
    "    w0 = np.random.uniform(0, 0.1, 1)[0]\n",
    "    w1 = np.random.uniform(0, 0.1, 1)[0]\n",
    "    \n",
    "    nIterations = 0\n",
    "    W = []\n",
    "    trainingLoss = []\n",
    "    validationLoss = []\n",
    "    done = False\n",
    "    \n",
    "    while done == False:\n",
    "        \n",
    "        # update w0 and w1\n",
    "            \n",
    "        loss_w1_tmp = calculate_Loss_derivative_w1(X_train_data_points, Y_train, w0, w1) #not to use new w0 in w1 update\n",
    "        w0 = w0 - alpha * calculate_Loss_derivative_w0(X_train_data_points, Y_train, w0, w1)\n",
    "        w1 = w1 - alpha * loss_w1_tmp\n",
    "        \n",
    "        nIterations += 1   \n",
    "        W.append((w0, w1))\n",
    "        trainingLoss.append(calculate_Loss(X_train_data_points, Y_train, w0, w1))\n",
    "        validationLoss.append(calculate_Loss(X_valid_data_points, Y_valid, w0, w1))\n",
    "        \n",
    "        \n",
    "        # Stopping condition\n",
    "        if (len(validationLoss) > 2) and abs(validationLoss[nIterations-1] - validationLoss[nIterations-2]) <= 1e-4 :\n",
    "            done = True\n",
    "        \n",
    "        # if it diverge\n",
    "        if nIterations > 5000:\n",
    "            done = True\n",
    "        \n",
    "    RMSE_train = np.sqrt((2/len(X_train_data_points))*np.array(trainingLoss))\n",
    "    RMSE_valid = np.sqrt((2/len(X_valid_data_points))*np.array(validationLoss))\n",
    "    return (RMSE_train, RMSE_valid, nIterations, W)"
   ]
  },
  {
   "cell_type": "code",
   "execution_count": 28,
   "metadata": {},
   "outputs": [
    {
     "data": {
      "image/png": "[encoded data removed]",
      "text/plain": [
       "<Figure size 1800x432 with 1 Axes>"
      ]
     },
     "metadata": {
      "needs_background": "light"
     },
     "output_type": "display_data"
    }
   ],
   "source": [
    "(RMSEs_train2_FBGD, RMSEs_valid2_FBGD, nIterations, W_FBGD) = fullBatchGD(X2_examples_train, Y2_train, X2_examples_valid, Y2_valid)\n",
    "plt.plot(np.arange(nIterations), RMSEs_train2_FBGD, label = \"Training RMSE\")\n",
    "plt.plot(np.arange(nIterations), RMSEs_valid2_FBGD, label = \"Validation RMSE\")\n",
    "plt.xlabel(\"Number of Iterations\")\n",
    "plt.ylabel(\"RMSE\")\n",
    "plt.legend(loc='best')\n",
    "plt.show()"
   ]
  },
  {
   "cell_type": "markdown",
   "metadata": {},
   "source": [
    "Stochastic GD vs full batch GD: in the report."
   ]
  },
  {
   "cell_type": "markdown",
   "metadata": {},
   "source": [
    "## 4 Real life dataset"
   ]
  },
  {
   "cell_type": "markdown",
   "metadata": {},
   "source": [
    "##### Q1"
   ]
  },
  {
   "cell_type": "markdown",
   "metadata": {},
   "source": [
    "##### Q1-a"
   ]
  },
  {
   "cell_type": "code",
   "execution_count": 29,
   "metadata": {},
   "outputs": [
    {
     "data": {
      "text/html": [
       "<div>\n",
       "<style scoped>\n",
       "    .dataframe tbody tr th:only-of-type {\n",
       "        vertical-align: middle;\n",
       "    }\n",
       "\n",
       "    .dataframe tbody tr th {\n",
       "        vertical-align: top;\n",
       "    }\n",
       "\n",
       "    .dataframe thead th {\n",
       "        text-align: right;\n",
       "    }\n",
       "</style>\n",
       "<table border=\"1\" class=\"dataframe\">\n",
       "  <thead>\n",
       "    <tr style=\"text-align: right;\">\n",
       "      <th></th>\n",
       "      <th>0</th>\n",
       "      <th>1</th>\n",
       "      <th>2</th>\n",
       "      <th>3</th>\n",
       "      <th>4</th>\n",
       "      <th>5</th>\n",
       "      <th>6</th>\n",
       "      <th>7</th>\n",
       "      <th>8</th>\n",
       "      <th>9</th>\n",
       "      <th>...</th>\n",
       "      <th>118</th>\n",
       "      <th>119</th>\n",
       "      <th>120</th>\n",
       "      <th>121</th>\n",
       "      <th>122</th>\n",
       "      <th>123</th>\n",
       "      <th>124</th>\n",
       "      <th>125</th>\n",
       "      <th>126</th>\n",
       "      <th>127</th>\n",
       "    </tr>\n",
       "  </thead>\n",
       "  <tbody>\n",
       "    <tr>\n",
       "      <th>0</th>\n",
       "      <td>8</td>\n",
       "      <td>?</td>\n",
       "      <td>?</td>\n",
       "      <td>Lakewoodcity</td>\n",
       "      <td>1</td>\n",
       "      <td>0.19</td>\n",
       "      <td>0.33</td>\n",
       "      <td>0.02</td>\n",
       "      <td>0.90</td>\n",
       "      <td>0.12</td>\n",
       "      <td>...</td>\n",
       "      <td>0.12</td>\n",
       "      <td>0.26</td>\n",
       "      <td>0.20</td>\n",
       "      <td>0.06</td>\n",
       "      <td>0.04</td>\n",
       "      <td>0.9</td>\n",
       "      <td>0.5</td>\n",
       "      <td>0.32</td>\n",
       "      <td>0.14</td>\n",
       "      <td>0.20</td>\n",
       "    </tr>\n",
       "    <tr>\n",
       "      <th>1</th>\n",
       "      <td>53</td>\n",
       "      <td>?</td>\n",
       "      <td>?</td>\n",
       "      <td>Tukwilacity</td>\n",
       "      <td>1</td>\n",
       "      <td>0.00</td>\n",
       "      <td>0.16</td>\n",
       "      <td>0.12</td>\n",
       "      <td>0.74</td>\n",
       "      <td>0.45</td>\n",
       "      <td>...</td>\n",
       "      <td>0.02</td>\n",
       "      <td>0.12</td>\n",
       "      <td>0.45</td>\n",
       "      <td>?</td>\n",
       "      <td>?</td>\n",
       "      <td>?</td>\n",
       "      <td>?</td>\n",
       "      <td>0.00</td>\n",
       "      <td>?</td>\n",
       "      <td>0.67</td>\n",
       "    </tr>\n",
       "    <tr>\n",
       "      <th>2</th>\n",
       "      <td>24</td>\n",
       "      <td>?</td>\n",
       "      <td>?</td>\n",
       "      <td>Aberdeentown</td>\n",
       "      <td>1</td>\n",
       "      <td>0.00</td>\n",
       "      <td>0.42</td>\n",
       "      <td>0.49</td>\n",
       "      <td>0.56</td>\n",
       "      <td>0.17</td>\n",
       "      <td>...</td>\n",
       "      <td>0.01</td>\n",
       "      <td>0.21</td>\n",
       "      <td>0.02</td>\n",
       "      <td>?</td>\n",
       "      <td>?</td>\n",
       "      <td>?</td>\n",
       "      <td>?</td>\n",
       "      <td>0.00</td>\n",
       "      <td>?</td>\n",
       "      <td>0.43</td>\n",
       "    </tr>\n",
       "    <tr>\n",
       "      <th>3</th>\n",
       "      <td>34</td>\n",
       "      <td>5</td>\n",
       "      <td>81440</td>\n",
       "      <td>Willingborotownship</td>\n",
       "      <td>1</td>\n",
       "      <td>0.04</td>\n",
       "      <td>0.77</td>\n",
       "      <td>1.00</td>\n",
       "      <td>0.08</td>\n",
       "      <td>0.12</td>\n",
       "      <td>...</td>\n",
       "      <td>0.02</td>\n",
       "      <td>0.39</td>\n",
       "      <td>0.28</td>\n",
       "      <td>?</td>\n",
       "      <td>?</td>\n",
       "      <td>?</td>\n",
       "      <td>?</td>\n",
       "      <td>0.00</td>\n",
       "      <td>?</td>\n",
       "      <td>0.12</td>\n",
       "    </tr>\n",
       "    <tr>\n",
       "      <th>4</th>\n",
       "      <td>42</td>\n",
       "      <td>95</td>\n",
       "      <td>6096</td>\n",
       "      <td>Bethlehemtownship</td>\n",
       "      <td>1</td>\n",
       "      <td>0.01</td>\n",
       "      <td>0.55</td>\n",
       "      <td>0.02</td>\n",
       "      <td>0.95</td>\n",
       "      <td>0.09</td>\n",
       "      <td>...</td>\n",
       "      <td>0.04</td>\n",
       "      <td>0.09</td>\n",
       "      <td>0.02</td>\n",
       "      <td>?</td>\n",
       "      <td>?</td>\n",
       "      <td>?</td>\n",
       "      <td>?</td>\n",
       "      <td>0.00</td>\n",
       "      <td>?</td>\n",
       "      <td>0.03</td>\n",
       "    </tr>\n",
       "    <tr>\n",
       "      <th>...</th>\n",
       "      <td>...</td>\n",
       "      <td>...</td>\n",
       "      <td>...</td>\n",
       "      <td>...</td>\n",
       "      <td>...</td>\n",
       "      <td>...</td>\n",
       "      <td>...</td>\n",
       "      <td>...</td>\n",
       "      <td>...</td>\n",
       "      <td>...</td>\n",
       "      <td>...</td>\n",
       "      <td>...</td>\n",
       "      <td>...</td>\n",
       "      <td>...</td>\n",
       "      <td>...</td>\n",
       "      <td>...</td>\n",
       "      <td>...</td>\n",
       "      <td>...</td>\n",
       "      <td>...</td>\n",
       "      <td>...</td>\n",
       "      <td>...</td>\n",
       "    </tr>\n",
       "    <tr>\n",
       "      <th>1989</th>\n",
       "      <td>12</td>\n",
       "      <td>?</td>\n",
       "      <td>?</td>\n",
       "      <td>TempleTerracecity</td>\n",
       "      <td>10</td>\n",
       "      <td>0.01</td>\n",
       "      <td>0.40</td>\n",
       "      <td>0.10</td>\n",
       "      <td>0.87</td>\n",
       "      <td>0.12</td>\n",
       "      <td>...</td>\n",
       "      <td>0.01</td>\n",
       "      <td>0.28</td>\n",
       "      <td>0.05</td>\n",
       "      <td>?</td>\n",
       "      <td>?</td>\n",
       "      <td>?</td>\n",
       "      <td>?</td>\n",
       "      <td>0.00</td>\n",
       "      <td>?</td>\n",
       "      <td>0.09</td>\n",
       "    </tr>\n",
       "    <tr>\n",
       "      <th>1990</th>\n",
       "      <td>6</td>\n",
       "      <td>?</td>\n",
       "      <td>?</td>\n",
       "      <td>Seasidecity</td>\n",
       "      <td>10</td>\n",
       "      <td>0.05</td>\n",
       "      <td>0.96</td>\n",
       "      <td>0.46</td>\n",
       "      <td>0.28</td>\n",
       "      <td>0.83</td>\n",
       "      <td>...</td>\n",
       "      <td>0.02</td>\n",
       "      <td>0.37</td>\n",
       "      <td>0.20</td>\n",
       "      <td>?</td>\n",
       "      <td>?</td>\n",
       "      <td>?</td>\n",
       "      <td>?</td>\n",
       "      <td>0.00</td>\n",
       "      <td>?</td>\n",
       "      <td>0.45</td>\n",
       "    </tr>\n",
       "    <tr>\n",
       "      <th>1991</th>\n",
       "      <td>9</td>\n",
       "      <td>9</td>\n",
       "      <td>80070</td>\n",
       "      <td>Waterburytown</td>\n",
       "      <td>10</td>\n",
       "      <td>0.16</td>\n",
       "      <td>0.37</td>\n",
       "      <td>0.25</td>\n",
       "      <td>0.69</td>\n",
       "      <td>0.04</td>\n",
       "      <td>...</td>\n",
       "      <td>0.08</td>\n",
       "      <td>0.32</td>\n",
       "      <td>0.18</td>\n",
       "      <td>0.08</td>\n",
       "      <td>0.06</td>\n",
       "      <td>0.78</td>\n",
       "      <td>0</td>\n",
       "      <td>0.91</td>\n",
       "      <td>0.28</td>\n",
       "      <td>0.23</td>\n",
       "    </tr>\n",
       "    <tr>\n",
       "      <th>1992</th>\n",
       "      <td>25</td>\n",
       "      <td>17</td>\n",
       "      <td>72600</td>\n",
       "      <td>Walthamcity</td>\n",
       "      <td>10</td>\n",
       "      <td>0.08</td>\n",
       "      <td>0.51</td>\n",
       "      <td>0.06</td>\n",
       "      <td>0.87</td>\n",
       "      <td>0.22</td>\n",
       "      <td>...</td>\n",
       "      <td>0.03</td>\n",
       "      <td>0.38</td>\n",
       "      <td>0.33</td>\n",
       "      <td>0.02</td>\n",
       "      <td>0.02</td>\n",
       "      <td>0.79</td>\n",
       "      <td>0</td>\n",
       "      <td>0.22</td>\n",
       "      <td>0.18</td>\n",
       "      <td>0.19</td>\n",
       "    </tr>\n",
       "    <tr>\n",
       "      <th>1993</th>\n",
       "      <td>6</td>\n",
       "      <td>?</td>\n",
       "      <td>?</td>\n",
       "      <td>Ontariocity</td>\n",
       "      <td>10</td>\n",
       "      <td>0.20</td>\n",
       "      <td>0.78</td>\n",
       "      <td>0.14</td>\n",
       "      <td>0.46</td>\n",
       "      <td>0.24</td>\n",
       "      <td>...</td>\n",
       "      <td>0.11</td>\n",
       "      <td>0.30</td>\n",
       "      <td>0.05</td>\n",
       "      <td>0.08</td>\n",
       "      <td>0.04</td>\n",
       "      <td>0.73</td>\n",
       "      <td>0.5</td>\n",
       "      <td>1.00</td>\n",
       "      <td>0.13</td>\n",
       "      <td>0.48</td>\n",
       "    </tr>\n",
       "  </tbody>\n",
       "</table>\n",
       "<p>1994 rows × 128 columns</p>\n",
       "</div>"
      ],
      "text/plain": [
       "      0   1      2                    3    4     5     6     7     8     9    \\\n",
       "0       8   ?      ?         Lakewoodcity    1  0.19  0.33  0.02  0.90  0.12   \n",
       "1      53   ?      ?          Tukwilacity    1  0.00  0.16  0.12  0.74  0.45   \n",
       "2      24   ?      ?         Aberdeentown    1  0.00  0.42  0.49  0.56  0.17   \n",
       "3      34   5  81440  Willingborotownship    1  0.04  0.77  1.00  0.08  0.12   \n",
       "4      42  95   6096    Bethlehemtownship    1  0.01  0.55  0.02  0.95  0.09   \n",
       "...   ...  ..    ...                  ...  ...   ...   ...   ...   ...   ...   \n",
       "1989   12   ?      ?    TempleTerracecity   10  0.01  0.40  0.10  0.87  0.12   \n",
       "1990    6   ?      ?          Seasidecity   10  0.05  0.96  0.46  0.28  0.83   \n",
       "1991    9   9  80070        Waterburytown   10  0.16  0.37  0.25  0.69  0.04   \n",
       "1992   25  17  72600          Walthamcity   10  0.08  0.51  0.06  0.87  0.22   \n",
       "1993    6   ?      ?          Ontariocity   10  0.20  0.78  0.14  0.46  0.24   \n",
       "\n",
       "      ...   118   119   120   121   122   123  124   125   126   127  \n",
       "0     ...  0.12  0.26  0.20  0.06  0.04   0.9  0.5  0.32  0.14  0.20  \n",
       "1     ...  0.02  0.12  0.45     ?     ?     ?    ?  0.00     ?  0.67  \n",
       "2     ...  0.01  0.21  0.02     ?     ?     ?    ?  0.00     ?  0.43  \n",
       "3     ...  0.02  0.39  0.28     ?     ?     ?    ?  0.00     ?  0.12  \n",
       "4     ...  0.04  0.09  0.02     ?     ?     ?    ?  0.00     ?  0.03  \n",
       "...   ...   ...   ...   ...   ...   ...   ...  ...   ...   ...   ...  \n",
       "1989  ...  0.01  0.28  0.05     ?     ?     ?    ?  0.00     ?  0.09  \n",
       "1990  ...  0.02  0.37  0.20     ?     ?     ?    ?  0.00     ?  0.45  \n",
       "1991  ...  0.08  0.32  0.18  0.08  0.06  0.78    0  0.91  0.28  0.23  \n",
       "1992  ...  0.03  0.38  0.33  0.02  0.02  0.79    0  0.22  0.18  0.19  \n",
       "1993  ...  0.11  0.30  0.05  0.08  0.04  0.73  0.5  1.00  0.13  0.48  \n",
       "\n",
       "[1994 rows x 128 columns]"
      ]
     },
     "execution_count": 29,
     "metadata": {},
     "output_type": "execute_result"
    }
   ],
   "source": [
    "# reading data\n",
    "df = pd.read_csv('Datasets/communities.data', header=None, na_values='NaN')\n",
    "df"
   ]
  },
  {
   "cell_type": "code",
   "execution_count": 30,
   "metadata": {},
   "outputs": [],
   "source": [
    "for i in range(df.shape[1]):\n",
    "    \n",
    "    df[i].replace('?', np.nan, inplace=True)\n",
    "    \n",
    "    #if its a column of numbers\n",
    "    if df[i][df[i].astype(str).str.isnumeric() == True].empty == False:\n",
    "        \n",
    "        #change NaN values by the mean in each column\n",
    "        df[i] = pd.to_numeric(df[i])\n",
    "        df[i].fillna(df[i].mean(skipna=True), inplace=True)"
   ]
  },
  {
   "cell_type": "markdown",
   "metadata": {},
   "source": [
    "Filling the missing attributes with the mean is not a good choice because the mean is not robust to outliers (very big numbers for example), and also because it can have no meaning if the numerical data is discrete (for example if our data is a list of country calling codes)."
   ]
  },
  {
   "cell_type": "markdown",
   "metadata": {},
   "source": [
    "##### Q1-b"
   ]
  },
  {
   "cell_type": "markdown",
   "metadata": {},
   "source": [
    "We can use the median of each column instead of the mean to fill the missing attributes."
   ]
  },
  {
   "cell_type": "markdown",
   "metadata": {},
   "source": [
    "##### Q1-c"
   ]
  },
  {
   "cell_type": "markdown",
   "metadata": {},
   "source": [
    "The median is better than the mean because it is robust to outliers like very big and very small numbers"
   ]
  },
  {
   "cell_type": "code",
   "execution_count": 31,
   "metadata": {},
   "outputs": [],
   "source": [
    "df = pd.read_csv('Datasets/communities.data', header=None, na_values='NaN')\n",
    "\n",
    "for i in range(df.shape[1]):\n",
    "    \n",
    "    df[i].replace('?', np.nan, inplace=True)\n",
    "    \n",
    "    #if its a column of numbers\n",
    "    if df[i][df[i].astype(str).str.isnumeric() == True].empty == False:\n",
    "        \n",
    "        #change NaN values by the median in each column\n",
    "        df[i] = pd.to_numeric(df[i])\n",
    "        df[i].fillna(df[i].median(skipna=True), inplace=True)"
   ]
  },
  {
   "cell_type": "markdown",
   "metadata": {},
   "source": [
    "##### Q1-d"
   ]
  },
  {
   "cell_type": "code",
   "execution_count": 32,
   "metadata": {},
   "outputs": [
    {
     "data": {
      "text/html": [
       "<div>\n",
       "<style scoped>\n",
       "    .dataframe tbody tr th:only-of-type {\n",
       "        vertical-align: middle;\n",
       "    }\n",
       "\n",
       "    .dataframe tbody tr th {\n",
       "        vertical-align: top;\n",
       "    }\n",
       "\n",
       "    .dataframe thead th {\n",
       "        text-align: right;\n",
       "    }\n",
       "</style>\n",
       "<table border=\"1\" class=\"dataframe\">\n",
       "  <thead>\n",
       "    <tr style=\"text-align: right;\">\n",
       "      <th></th>\n",
       "      <th>0</th>\n",
       "      <th>1</th>\n",
       "      <th>2</th>\n",
       "      <th>3</th>\n",
       "      <th>4</th>\n",
       "      <th>5</th>\n",
       "      <th>6</th>\n",
       "      <th>7</th>\n",
       "      <th>8</th>\n",
       "      <th>9</th>\n",
       "      <th>...</th>\n",
       "      <th>118</th>\n",
       "      <th>119</th>\n",
       "      <th>120</th>\n",
       "      <th>121</th>\n",
       "      <th>122</th>\n",
       "      <th>123</th>\n",
       "      <th>124</th>\n",
       "      <th>125</th>\n",
       "      <th>126</th>\n",
       "      <th>127</th>\n",
       "    </tr>\n",
       "  </thead>\n",
       "  <tbody>\n",
       "    <tr>\n",
       "      <th>0</th>\n",
       "      <td>8</td>\n",
       "      <td>23.0</td>\n",
       "      <td>48090.0</td>\n",
       "      <td>Lakewoodcity</td>\n",
       "      <td>1</td>\n",
       "      <td>0.19</td>\n",
       "      <td>0.33</td>\n",
       "      <td>0.02</td>\n",
       "      <td>0.90</td>\n",
       "      <td>0.12</td>\n",
       "      <td>...</td>\n",
       "      <td>0.12</td>\n",
       "      <td>0.26</td>\n",
       "      <td>0.20</td>\n",
       "      <td>0.06</td>\n",
       "      <td>0.04</td>\n",
       "      <td>0.90</td>\n",
       "      <td>0.5</td>\n",
       "      <td>0.32</td>\n",
       "      <td>0.14</td>\n",
       "      <td>0.20</td>\n",
       "    </tr>\n",
       "    <tr>\n",
       "      <th>1</th>\n",
       "      <td>53</td>\n",
       "      <td>23.0</td>\n",
       "      <td>48090.0</td>\n",
       "      <td>Tukwilacity</td>\n",
       "      <td>1</td>\n",
       "      <td>0.00</td>\n",
       "      <td>0.16</td>\n",
       "      <td>0.12</td>\n",
       "      <td>0.74</td>\n",
       "      <td>0.45</td>\n",
       "      <td>...</td>\n",
       "      <td>0.02</td>\n",
       "      <td>0.12</td>\n",
       "      <td>0.45</td>\n",
       "      <td>0.08</td>\n",
       "      <td>0.03</td>\n",
       "      <td>0.75</td>\n",
       "      <td>0.5</td>\n",
       "      <td>0.00</td>\n",
       "      <td>0.15</td>\n",
       "      <td>0.67</td>\n",
       "    </tr>\n",
       "    <tr>\n",
       "      <th>2</th>\n",
       "      <td>24</td>\n",
       "      <td>23.0</td>\n",
       "      <td>48090.0</td>\n",
       "      <td>Aberdeentown</td>\n",
       "      <td>1</td>\n",
       "      <td>0.00</td>\n",
       "      <td>0.42</td>\n",
       "      <td>0.49</td>\n",
       "      <td>0.56</td>\n",
       "      <td>0.17</td>\n",
       "      <td>...</td>\n",
       "      <td>0.01</td>\n",
       "      <td>0.21</td>\n",
       "      <td>0.02</td>\n",
       "      <td>0.08</td>\n",
       "      <td>0.03</td>\n",
       "      <td>0.75</td>\n",
       "      <td>0.5</td>\n",
       "      <td>0.00</td>\n",
       "      <td>0.15</td>\n",
       "      <td>0.43</td>\n",
       "    </tr>\n",
       "    <tr>\n",
       "      <th>3</th>\n",
       "      <td>34</td>\n",
       "      <td>5.0</td>\n",
       "      <td>81440.0</td>\n",
       "      <td>Willingborotownship</td>\n",
       "      <td>1</td>\n",
       "      <td>0.04</td>\n",
       "      <td>0.77</td>\n",
       "      <td>1.00</td>\n",
       "      <td>0.08</td>\n",
       "      <td>0.12</td>\n",
       "      <td>...</td>\n",
       "      <td>0.02</td>\n",
       "      <td>0.39</td>\n",
       "      <td>0.28</td>\n",
       "      <td>0.08</td>\n",
       "      <td>0.03</td>\n",
       "      <td>0.75</td>\n",
       "      <td>0.5</td>\n",
       "      <td>0.00</td>\n",
       "      <td>0.15</td>\n",
       "      <td>0.12</td>\n",
       "    </tr>\n",
       "    <tr>\n",
       "      <th>4</th>\n",
       "      <td>42</td>\n",
       "      <td>95.0</td>\n",
       "      <td>6096.0</td>\n",
       "      <td>Bethlehemtownship</td>\n",
       "      <td>1</td>\n",
       "      <td>0.01</td>\n",
       "      <td>0.55</td>\n",
       "      <td>0.02</td>\n",
       "      <td>0.95</td>\n",
       "      <td>0.09</td>\n",
       "      <td>...</td>\n",
       "      <td>0.04</td>\n",
       "      <td>0.09</td>\n",
       "      <td>0.02</td>\n",
       "      <td>0.08</td>\n",
       "      <td>0.03</td>\n",
       "      <td>0.75</td>\n",
       "      <td>0.5</td>\n",
       "      <td>0.00</td>\n",
       "      <td>0.15</td>\n",
       "      <td>0.03</td>\n",
       "    </tr>\n",
       "    <tr>\n",
       "      <th>...</th>\n",
       "      <td>...</td>\n",
       "      <td>...</td>\n",
       "      <td>...</td>\n",
       "      <td>...</td>\n",
       "      <td>...</td>\n",
       "      <td>...</td>\n",
       "      <td>...</td>\n",
       "      <td>...</td>\n",
       "      <td>...</td>\n",
       "      <td>...</td>\n",
       "      <td>...</td>\n",
       "      <td>...</td>\n",
       "      <td>...</td>\n",
       "      <td>...</td>\n",
       "      <td>...</td>\n",
       "      <td>...</td>\n",
       "      <td>...</td>\n",
       "      <td>...</td>\n",
       "      <td>...</td>\n",
       "      <td>...</td>\n",
       "      <td>...</td>\n",
       "    </tr>\n",
       "    <tr>\n",
       "      <th>1989</th>\n",
       "      <td>12</td>\n",
       "      <td>23.0</td>\n",
       "      <td>48090.0</td>\n",
       "      <td>TempleTerracecity</td>\n",
       "      <td>10</td>\n",
       "      <td>0.01</td>\n",
       "      <td>0.40</td>\n",
       "      <td>0.10</td>\n",
       "      <td>0.87</td>\n",
       "      <td>0.12</td>\n",
       "      <td>...</td>\n",
       "      <td>0.01</td>\n",
       "      <td>0.28</td>\n",
       "      <td>0.05</td>\n",
       "      <td>0.08</td>\n",
       "      <td>0.03</td>\n",
       "      <td>0.75</td>\n",
       "      <td>0.5</td>\n",
       "      <td>0.00</td>\n",
       "      <td>0.15</td>\n",
       "      <td>0.09</td>\n",
       "    </tr>\n",
       "    <tr>\n",
       "      <th>1990</th>\n",
       "      <td>6</td>\n",
       "      <td>23.0</td>\n",
       "      <td>48090.0</td>\n",
       "      <td>Seasidecity</td>\n",
       "      <td>10</td>\n",
       "      <td>0.05</td>\n",
       "      <td>0.96</td>\n",
       "      <td>0.46</td>\n",
       "      <td>0.28</td>\n",
       "      <td>0.83</td>\n",
       "      <td>...</td>\n",
       "      <td>0.02</td>\n",
       "      <td>0.37</td>\n",
       "      <td>0.20</td>\n",
       "      <td>0.08</td>\n",
       "      <td>0.03</td>\n",
       "      <td>0.75</td>\n",
       "      <td>0.5</td>\n",
       "      <td>0.00</td>\n",
       "      <td>0.15</td>\n",
       "      <td>0.45</td>\n",
       "    </tr>\n",
       "    <tr>\n",
       "      <th>1991</th>\n",
       "      <td>9</td>\n",
       "      <td>9.0</td>\n",
       "      <td>80070.0</td>\n",
       "      <td>Waterburytown</td>\n",
       "      <td>10</td>\n",
       "      <td>0.16</td>\n",
       "      <td>0.37</td>\n",
       "      <td>0.25</td>\n",
       "      <td>0.69</td>\n",
       "      <td>0.04</td>\n",
       "      <td>...</td>\n",
       "      <td>0.08</td>\n",
       "      <td>0.32</td>\n",
       "      <td>0.18</td>\n",
       "      <td>0.08</td>\n",
       "      <td>0.06</td>\n",
       "      <td>0.78</td>\n",
       "      <td>0.0</td>\n",
       "      <td>0.91</td>\n",
       "      <td>0.28</td>\n",
       "      <td>0.23</td>\n",
       "    </tr>\n",
       "    <tr>\n",
       "      <th>1992</th>\n",
       "      <td>25</td>\n",
       "      <td>17.0</td>\n",
       "      <td>72600.0</td>\n",
       "      <td>Walthamcity</td>\n",
       "      <td>10</td>\n",
       "      <td>0.08</td>\n",
       "      <td>0.51</td>\n",
       "      <td>0.06</td>\n",
       "      <td>0.87</td>\n",
       "      <td>0.22</td>\n",
       "      <td>...</td>\n",
       "      <td>0.03</td>\n",
       "      <td>0.38</td>\n",
       "      <td>0.33</td>\n",
       "      <td>0.02</td>\n",
       "      <td>0.02</td>\n",
       "      <td>0.79</td>\n",
       "      <td>0.0</td>\n",
       "      <td>0.22</td>\n",
       "      <td>0.18</td>\n",
       "      <td>0.19</td>\n",
       "    </tr>\n",
       "    <tr>\n",
       "      <th>1993</th>\n",
       "      <td>6</td>\n",
       "      <td>23.0</td>\n",
       "      <td>48090.0</td>\n",
       "      <td>Ontariocity</td>\n",
       "      <td>10</td>\n",
       "      <td>0.20</td>\n",
       "      <td>0.78</td>\n",
       "      <td>0.14</td>\n",
       "      <td>0.46</td>\n",
       "      <td>0.24</td>\n",
       "      <td>...</td>\n",
       "      <td>0.11</td>\n",
       "      <td>0.30</td>\n",
       "      <td>0.05</td>\n",
       "      <td>0.08</td>\n",
       "      <td>0.04</td>\n",
       "      <td>0.73</td>\n",
       "      <td>0.5</td>\n",
       "      <td>1.00</td>\n",
       "      <td>0.13</td>\n",
       "      <td>0.48</td>\n",
       "    </tr>\n",
       "  </tbody>\n",
       "</table>\n",
       "<p>1994 rows × 128 columns</p>\n",
       "</div>"
      ],
      "text/plain": [
       "      0     1        2                    3    4     5     6     7     8    \\\n",
       "0       8  23.0  48090.0         Lakewoodcity    1  0.19  0.33  0.02  0.90   \n",
       "1      53  23.0  48090.0          Tukwilacity    1  0.00  0.16  0.12  0.74   \n",
       "2      24  23.0  48090.0         Aberdeentown    1  0.00  0.42  0.49  0.56   \n",
       "3      34   5.0  81440.0  Willingborotownship    1  0.04  0.77  1.00  0.08   \n",
       "4      42  95.0   6096.0    Bethlehemtownship    1  0.01  0.55  0.02  0.95   \n",
       "...   ...   ...      ...                  ...  ...   ...   ...   ...   ...   \n",
       "1989   12  23.0  48090.0    TempleTerracecity   10  0.01  0.40  0.10  0.87   \n",
       "1990    6  23.0  48090.0          Seasidecity   10  0.05  0.96  0.46  0.28   \n",
       "1991    9   9.0  80070.0        Waterburytown   10  0.16  0.37  0.25  0.69   \n",
       "1992   25  17.0  72600.0          Walthamcity   10  0.08  0.51  0.06  0.87   \n",
       "1993    6  23.0  48090.0          Ontariocity   10  0.20  0.78  0.14  0.46   \n",
       "\n",
       "       9    ...   118   119   120   121   122   123  124   125   126   127  \n",
       "0     0.12  ...  0.12  0.26  0.20  0.06  0.04  0.90  0.5  0.32  0.14  0.20  \n",
       "1     0.45  ...  0.02  0.12  0.45  0.08  0.03  0.75  0.5  0.00  0.15  0.67  \n",
       "2     0.17  ...  0.01  0.21  0.02  0.08  0.03  0.75  0.5  0.00  0.15  0.43  \n",
       "3     0.12  ...  0.02  0.39  0.28  0.08  0.03  0.75  0.5  0.00  0.15  0.12  \n",
       "4     0.09  ...  0.04  0.09  0.02  0.08  0.03  0.75  0.5  0.00  0.15  0.03  \n",
       "...    ...  ...   ...   ...   ...   ...   ...   ...  ...   ...   ...   ...  \n",
       "1989  0.12  ...  0.01  0.28  0.05  0.08  0.03  0.75  0.5  0.00  0.15  0.09  \n",
       "1990  0.83  ...  0.02  0.37  0.20  0.08  0.03  0.75  0.5  0.00  0.15  0.45  \n",
       "1991  0.04  ...  0.08  0.32  0.18  0.08  0.06  0.78  0.0  0.91  0.28  0.23  \n",
       "1992  0.22  ...  0.03  0.38  0.33  0.02  0.02  0.79  0.0  0.22  0.18  0.19  \n",
       "1993  0.24  ...  0.11  0.30  0.05  0.08  0.04  0.73  0.5  1.00  0.13  0.48  \n",
       "\n",
       "[1994 rows x 128 columns]"
      ]
     },
     "execution_count": 32,
     "metadata": {},
     "output_type": "execute_result"
    }
   ],
   "source": [
    "df"
   ]
  },
  {
   "cell_type": "markdown",
   "metadata": {},
   "source": [
    "##### Q2"
   ]
  },
  {
   "cell_type": "markdown",
   "metadata": {},
   "source": [
    "##### Q2-a"
   ]
  },
  {
   "cell_type": "code",
   "execution_count": 33,
   "metadata": {},
   "outputs": [],
   "source": [
    "twentyPercent = int((20*df.shape[0])/100)\n",
    "eightyPercent = int((80*df.shape[0])/100)\n",
    "\n",
    "df_test = df[:][0: twentyPercent].copy()\n",
    "df_train = df[:][twentyPercent: twentyPercent + eightyPercent+1].copy()\n",
    "\n",
    "for i in range(df.shape[1]):\n",
    "    \n",
    "    #if its a column of strings, drop it\n",
    "    if (str(df[i][0]) == df[i][0]):\n",
    "        del df_test[i]\n",
    "        del df_train[i]"
   ]
  },
  {
   "cell_type": "code",
   "execution_count": 34,
   "metadata": {},
   "outputs": [],
   "source": [
    "oneFifth = int((20*df_train.shape[0])/100)\n",
    "\n",
    "fold1 = df_train[:][0: oneFifth].copy()\n",
    "fold2 = df_train[:][oneFifth: 2*oneFifth].copy()\n",
    "fold3 = df_train[:][2*oneFifth: 3*oneFifth].copy()\n",
    "fold4 = df_train[:][3*oneFifth: 4*oneFifth].copy()\n",
    "fold5 = df_train[:][4*oneFifth: 5*oneFifth].copy()\n",
    "\n",
    "combis = []\n",
    "# tuples of the form (4 training folds, validation fold)\n",
    "combis.append ( ([fold2, fold3, fold4, fold5], fold1) )\n",
    "combis.append ( ([fold1, fold3, fold4, fold5], fold2) )\n",
    "combis.append ( ([fold1, fold2, fold4, fold5], fold3) )\n",
    "combis.append ( ([fold1, fold2, fold3, fold5], fold4) )\n",
    "combis.append ( ([fold1, fold2, fold3, fold4], fold5) )"
   ]
  },
  {
   "cell_type": "code",
   "execution_count": 35,
   "metadata": {},
   "outputs": [
    {
     "name": "stdout",
     "output_type": "stream",
     "text": [
      "5-fold cross-validation average RMSE: 7.16285010171427\n"
     ]
    }
   ],
   "source": [
    "RMSEs_Q4_valid = []\n",
    "RMSEs_Q4_test = []\n",
    "for combination in combis:\n",
    "    \n",
    "    # training data\n",
    "    X_Q4_train = np.concatenate((combination[0][0].to_numpy(), combination[0][1].to_numpy(), combination[0][2].to_numpy(), combination[0][3]), axis = 0)\n",
    "    Y_Q4_train = X_Q4_train[:, 126]\n",
    "    X_Q4_train = np.delete(X_Q4_train, 126, 1)\n",
    "    \n",
    "    # solving for the parameters W using closed solution\n",
    "    W_Q4 = np.matmul(inv(np.matmul(X_Q4_train.T, X_Q4_train)), np.matmul(X_Q4_train.T, Y_Q4_train))\n",
    "    \n",
    "    #validation data\n",
    "    X_Q4_valid = combination[1].to_numpy()\n",
    "    Y_Q4_valid = X_Q4_valid[:, 126]\n",
    "    X_Q4_valid = np.delete(X_Q4_valid, 126, 1)\n",
    "    \n",
    "    #testing data\n",
    "    X_Q4_test = df_test.to_numpy()\n",
    "    Y_Q4_test = X_Q4_test[:, 126]\n",
    "    X_Q4_test = np.delete(X_Q4_test, 126, 1)\n",
    "    \n",
    "    # least square error (validation)\n",
    "    E_Q4_valid = float(np.matmul((Y_Q4_valid - np.matmul(X_Q4_valid, W_Q4)).T, (Y_Q4_valid - np.matmul(X_Q4_valid, W_Q4)))/2)\n",
    "    \n",
    "    # least square error (test)\n",
    "    E_Q4_test = float(np.matmul((Y_Q4_test - np.matmul(X_Q4_test, W_Q4)).T, (Y_Q4_test - np.matmul(X_Q4_test, W_Q4)))/2)\n",
    "    \n",
    "    #RMSE validation\n",
    "    RMSEs_Q4_valid.append(np.sqrt((2*E_Q4_valid)/X_Q4_valid.shape[0]))\n",
    "    \n",
    "    #RMSE test\n",
    "    RMSEs_Q4_test.append(np.sqrt((2*E_Q4_test)/X_Q4_test.shape[0]))\n",
    "    \n",
    "print(f\"5-fold cross-validation average RMSE: {np.mean(RMSEs_Q4_valid)}\")\n",
    "    "
   ]
  },
  {
   "cell_type": "markdown",
   "metadata": {},
   "source": [
    "##### Q2-b"
   ]
  },
  {
   "cell_type": "code",
   "execution_count": 36,
   "metadata": {},
   "outputs": [
    {
     "name": "stdout",
     "output_type": "stream",
     "text": [
      "test RMSEs for each of the 5-fold cross-validation : [0.13985036367995404, 0.14100284704622496, 0.14119868621564738, 34.935128521756695, 0.14129304225951544]\n",
      "\n",
      "Average test RMSE: 7.099694692191607\n"
     ]
    }
   ],
   "source": [
    "print(f\"test RMSEs for each of the 5-fold cross-validation : {RMSEs_Q4_test}\\n\")\n",
    "print(f\"Average test RMSE: {np.mean(RMSEs_Q4_test)}\")"
   ]
  },
  {
   "cell_type": "markdown",
   "metadata": {},
   "source": [
    "##### Q3"
   ]
  },
  {
   "cell_type": "markdown",
   "metadata": {},
   "source": [
    "##### Q3-a"
   ]
  },
  {
   "cell_type": "code",
   "execution_count": 37,
   "metadata": {},
   "outputs": [
    {
     "data": {
      "image/png": "[encoded data removed]",
      "text/plain": [
       "<Figure size 1800x432 with 1 Axes>"
      ]
     },
     "metadata": {
      "needs_background": "light"
     },
     "output_type": "display_data"
    }
   ],
   "source": [
    "lambdasQ4 = np.linspace(0.0001, 0.01, 100)\n",
    "\n",
    "\n",
    "RMSE_for_lambda_valid = []\n",
    "RMSE_for_lambda_test = []\n",
    "Ws_Q4 = []\n",
    "for lambd in lambdasQ4:\n",
    "    RMSEs_Q4_valid_reg = []\n",
    "    RMSEs_Q4_test_reg = []\n",
    "    for combination in combis:\n",
    "\n",
    "        dim = X_Q4_train.T.shape[0]\n",
    "        # training data\n",
    "        X_Q4_train = np.concatenate((combination[0][0].to_numpy(), combination[0][1].to_numpy(), combination[0][2].to_numpy(), combination[0][3]), axis = 0)\n",
    "        Y_Q4_train = X_Q4_train[:, 126]\n",
    "        X_Q4_train = np.delete(X_Q4_train, 126, 1)\n",
    "\n",
    "        # solving for the parameters W using closed solution and regularization\n",
    "        W_Q4 = np.matmul( inv(np.matmul(X_Q4_train.T, X_Q4_train) + lambd*np.eye(dim) ), np.matmul(X_Q4_train.T, Y_Q4_train))\n",
    "\n",
    "\n",
    "        #validation data\n",
    "        X_Q4_valid = combination[1].to_numpy()\n",
    "        Y_Q4_valid = X_Q4_valid[:, 126]\n",
    "        X_Q4_valid = np.delete(X_Q4_valid, 126, 1)\n",
    "\n",
    "        #testing data\n",
    "        X_Q4_test = df_test.to_numpy()\n",
    "        Y_Q4_test = X_Q4_test[:, 126]\n",
    "        X_Q4_test = np.delete(X_Q4_test, 126, 1)\n",
    "\n",
    "        # least square error (validation) with regularization\n",
    "        E_Q4_valid = float(np.matmul((Y_Q4_valid - np.matmul(X_Q4_valid, W_Q4)).T, (Y_Q4_valid - np.matmul(X_Q4_valid, W_Q4))) + lambd*np.matmul(W_Q4.T, W_Q4))/2\n",
    "\n",
    "        # least square error (test) with regularization\n",
    "        E_Q4_test = float(np.matmul((Y_Q4_test - np.matmul(X_Q4_test, W_Q4)).T, (Y_Q4_test - np.matmul(X_Q4_test, W_Q4))) + lambd*np.matmul(W_Q4.T, W_Q4))/2\n",
    "\n",
    "\n",
    "        #RMSE validation\n",
    "        RMSEs_Q4_valid_reg.append(np.sqrt((2*E_Q4_valid)/X_Q4_valid.shape[0]))\n",
    "\n",
    "        #RMSE test\n",
    "        RMSEs_Q4_test_reg.append(np.sqrt((2*E_Q4_test)/X_Q4_test.shape[0]))\n",
    "        \n",
    "    RMSE_for_lambda_valid.append(np.mean(RMSEs_Q4_valid_reg))\n",
    "    RMSE_for_lambda_test.append(np.mean(RMSEs_Q4_test_reg))\n",
    "    Ws_Q4.append(W_Q4)\n",
    "    \n",
    "plt.plot(lambdasQ4, RMSE_for_lambda_valid)\n",
    "plt.xlabel(\"lambda value\")\n",
    "plt.ylabel(\"Average RMSE\")\n",
    "plt.title(\"Average validation RMSE as function of lambdas\")\n",
    "plt.show()"
   ]
  },
  {
   "cell_type": "markdown",
   "metadata": {},
   "source": [
    "If lambda = 0 then it's like if there is no regularization at all, so we'll explore values > 0, and we know that lambda is the penalty term that tries to force some coefficients to be close to 0 so that there is no overfitting, but because of this, if we take a big lambda then we'll end up forcing too many coefficients to be close to zero and so our model will be underfitting.\n",
    "I started by trying numbers in the uniform interval [0, 20], and found that once lambda > 1 the RMSE only becomes larger, so changed to [0, 1] and same thing happened once lambda > 0.1, so after some iterations found the interval [0.0001, 0.01] and this time the RMSE decreased to arrive at its minimum at lambda = 0.0006 then started increasing."
   ]
  },
  {
   "cell_type": "markdown",
   "metadata": {},
   "source": [
    "##### Q3-b"
   ]
  },
  {
   "cell_type": "markdown",
   "metadata": {},
   "source": [
    "Lambda = 0.0006 gives the best fit"
   ]
  },
  {
   "cell_type": "markdown",
   "metadata": {},
   "source": [
    "##### Q3-c"
   ]
  },
  {
   "cell_type": "code",
   "execution_count": 38,
   "metadata": {},
   "outputs": [
    {
     "name": "stdout",
     "output_type": "stream",
     "text": [
      "Test RMSE using lambda = 0.0006000000000000001, is : 0.14106292723223307\n"
     ]
    }
   ],
   "source": [
    "print(f\"Test RMSE using lambda = {lambdasQ4[5]}, is : {RMSE_for_lambda_test[5]}\")"
   ]
  },
  {
   "cell_type": "markdown",
   "metadata": {},
   "source": [
    "##### Q3-d"
   ]
  },
  {
   "cell_type": "markdown",
   "metadata": {},
   "source": [
    "We can take the parameters learned from the training with regularization, and see which ones are the smallest (the closest to zero), these are the ones that has been reduced due to the regularization, because they correspond to features that are not very important in the prediction task, and so we can drop these features."
   ]
  },
  {
   "cell_type": "code",
   "execution_count": 39,
   "metadata": {},
   "outputs": [
    {
     "data": {
      "text/plain": [
       "array([  6,  10,  11,  12,  14,  16,  17,  19,  20,  22,  23,  25,  31,\n",
       "        32,  35,  37,  40,  41,  42,  43,  45,  46,  48,  52,  53,  54,\n",
       "        62,  63,  64,  65,  66,  67,  68,  70,  71,  72,  75,  77,  83,\n",
       "        84,  87,  89,  93,  94,  95, 100, 101, 102, 103, 104, 105, 106,\n",
       "       107, 109, 110, 111, 112, 113, 114, 120, 121, 125])"
      ]
     },
     "execution_count": 39,
     "metadata": {},
     "output_type": "execute_result"
    }
   ],
   "source": [
    "# we only take features whose learned parameter is greater than 1e-1\n",
    "reduced_features = np.array([i for i in range(len(Ws_Q4[5])) if ((abs(Ws_Q4[5])>1e-1)[i] == True)])\n",
    "reduced_features"
   ]
  },
  {
   "cell_type": "markdown",
   "metadata": {},
   "source": [
    "##### Q3-e"
   ]
  },
  {
   "cell_type": "code",
   "execution_count": 40,
   "metadata": {},
   "outputs": [
    {
     "data": {
      "image/png": "[encoded data removed]",
      "text/plain": [
       "<Figure size 1800x432 with 1 Axes>"
      ]
     },
     "metadata": {
      "needs_background": "light"
     },
     "output_type": "display_data"
    }
   ],
   "source": [
    "lambdasQ4 = np.linspace(0.0001, 0.01, 100)\n",
    "\n",
    "\n",
    "RMSE_for_lambda_valid = []\n",
    "RMSE_for_lambda_test = []\n",
    "Ws_Q4 = []\n",
    "for lambd in lambdasQ4:\n",
    "    RMSEs_Q4_valid_reg = []\n",
    "    RMSEs_Q4_test_reg = []\n",
    "    for combination in combis:\n",
    "\n",
    "\n",
    "        # training data\n",
    "        X_Q4_train = np.concatenate((combination[0][0].to_numpy(), combination[0][1].to_numpy(), combination[0][2].to_numpy(), combination[0][3]), axis = 0)\n",
    "        Y_Q4_train = X_Q4_train[:, 126]\n",
    "        X_Q4_train = np.delete(X_Q4_train, 126, 1)\n",
    "        \n",
    "        X_Q4_train = X_Q4_train[:, reduced_features]\n",
    "        dim = X_Q4_train.T.shape[0]\n",
    "\n",
    "        # solving for the parameters W using closed solution and regularization\n",
    "        W_Q4 = np.matmul( inv(np.matmul(X_Q4_train.T, X_Q4_train) + lambd*np.eye(dim) ), np.matmul(X_Q4_train.T, Y_Q4_train))\n",
    "\n",
    "\n",
    "        #validation data\n",
    "        X_Q4_valid = combination[1].to_numpy()\n",
    "        Y_Q4_valid = X_Q4_valid[:, 126]\n",
    "        X_Q4_valid = np.delete(X_Q4_valid, 126, 1)\n",
    "        \n",
    "        X_Q4_valid = X_Q4_valid[:, reduced_features]\n",
    "\n",
    "        #testing data\n",
    "        X_Q4_test = df_test.to_numpy()\n",
    "        Y_Q4_test = X_Q4_test[:, 126]\n",
    "        X_Q4_test = np.delete(X_Q4_test, 126, 1)\n",
    "        \n",
    "        X_Q4_test = X_Q4_test[:, reduced_features]\n",
    "\n",
    "        # least square error (validation) with regularization\n",
    "        E_Q4_valid = float(np.matmul((Y_Q4_valid - np.matmul(X_Q4_valid, W_Q4)).T, (Y_Q4_valid - np.matmul(X_Q4_valid, W_Q4))) + lambd*np.matmul(W_Q4.T, W_Q4))/2\n",
    "\n",
    "        # least square error (test) with regularization\n",
    "        E_Q4_test = float(np.matmul((Y_Q4_test - np.matmul(X_Q4_test, W_Q4)).T, (Y_Q4_test - np.matmul(X_Q4_test, W_Q4))) + lambd*np.matmul(W_Q4.T, W_Q4))/2\n",
    "\n",
    "\n",
    "        #RMSE validation\n",
    "        RMSEs_Q4_valid_reg.append(np.sqrt((2*E_Q4_valid)/X_Q4_valid.shape[0]))\n",
    "\n",
    "        #RMSE test\n",
    "        RMSEs_Q4_test_reg.append(np.sqrt((2*E_Q4_test)/X_Q4_test.shape[0]))\n",
    "        \n",
    "    RMSE_for_lambda_valid.append(np.mean(RMSEs_Q4_valid_reg))\n",
    "    RMSE_for_lambda_test.append(np.mean(RMSEs_Q4_test_reg))\n",
    "    Ws_Q4.append(W_Q4)\n",
    "    \n",
    "plt.plot(lambdasQ4, RMSE_for_lambda_valid)\n",
    "plt.xlabel(\"lambda value\")\n",
    "plt.ylabel(\"Average RMSE\")\n",
    "plt.title(\"Average validation RMSE as function of lambdas, with reduced number of features\")\n",
    "plt.show()"
   ]
  },
  {
   "cell_type": "code",
   "execution_count": 41,
   "metadata": {},
   "outputs": [
    {
     "name": "stdout",
     "output_type": "stream",
     "text": [
      "test RMSE best fit with reduced number of features: 0.14233290979224514\n"
     ]
    }
   ],
   "source": [
    "best_lambda = 0.0006\n",
    "\n",
    "RMSEs_Q4_test_reg = []\n",
    "for combination in combis:\n",
    "\n",
    "    \n",
    "    # training data\n",
    "    X_Q4_train = np.concatenate((combination[0][0].to_numpy(), combination[0][1].to_numpy(), combination[0][2].to_numpy(), combination[0][3]), axis = 0)\n",
    "    Y_Q4_train = X_Q4_train[:, 126]\n",
    "    X_Q4_train = np.delete(X_Q4_train, 126, 1)\n",
    "    \n",
    "    X_Q4_train = X_Q4_train[:, reduced_features]\n",
    "    dim = X_Q4_train.T.shape[0]\n",
    "\n",
    "    # solving for the parameters W using closed solution and regularization\n",
    "    W_Q4 = np.matmul( inv(np.matmul(X_Q4_train.T, X_Q4_train) + best_lambda*np.eye(dim) ), np.matmul(X_Q4_train.T, Y_Q4_train))\n",
    "\n",
    "    #testing data\n",
    "    X_Q4_test = df_test.to_numpy()\n",
    "    Y_Q4_test = X_Q4_test[:, 126]\n",
    "    X_Q4_test = np.delete(X_Q4_test, 126, 1)\n",
    "    \n",
    "    X_Q4_test = X_Q4_test[:, reduced_features]\n",
    "\n",
    "    # least square error (test) with regularization\n",
    "    E_Q4_test = float(np.matmul((Y_Q4_test - np.matmul(X_Q4_test, W_Q4)).T, (Y_Q4_test - np.matmul(X_Q4_test, W_Q4))) + best_lambda*np.matmul(W_Q4.T, W_Q4))/2\n",
    "\n",
    "\n",
    "    #RMSE test\n",
    "    RMSEs_Q4_test_reg.append(np.sqrt((2*E_Q4_test)/X_Q4_test.shape[0]))\n",
    "        \n",
    "print(f\"test RMSE best fit with reduced number of features: {np.mean(RMSEs_Q4_test_reg)}\")\n",
    "\n"
   ]
  },
  {
   "cell_type": "markdown",
   "metadata": {},
   "source": [
    "##### Q3-f"
   ]
  },
  {
   "cell_type": "markdown",
   "metadata": {},
   "source": [
    "The test RMSE of the model with all features is 0.14106 while for the model with reduced number of features it is 0.14233, and this even though we have retained only 62 from the 127 features. So we can say that even if the RMSE with reduced feature is slighty bigger than the one with all features, the temporal and spatial complexity that has been reduced is worth it, and also that a lot of features didn't have much importance in our prediction task."
   ]
  }
 ],
 "metadata": {
  "colab": {
   "collapsed_sections": [],
   "name": "Assignment_1_Amine_Code.ipynb",
   "provenance": []
  },
  "kernelspec": {
   "display_name": "Python 3",
   "language": "python",
   "name": "python3"
  },
  "language_info": {
   "codemirror_mode": {
    "name": "ipython",
    "version": 3
   },
   "file_extension": ".py",
   "mimetype": "text/x-python",
   "name": "python",
   "nbconvert_exporter": "python",
   "pygments_lexer": "ipython3",
   "version": "3.8.8"
  }
 },
 "nbformat": 4,
 "nbformat_minor": 1
}
